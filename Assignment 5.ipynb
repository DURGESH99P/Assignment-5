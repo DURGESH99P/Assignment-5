{
 "cells": [
  {
   "cell_type": "markdown",
   "id": "46a95132",
   "metadata": {},
   "source": [
    "# Assignment 5"
   ]
  },
  {
   "cell_type": "markdown",
   "id": "0437a7f7",
   "metadata": {},
   "source": [
    "### 1. What does an empty dictionary's code look like?\n",
    "* {} curly brackets"
   ]
  },
  {
   "cell_type": "markdown",
   "id": "7468ae9c",
   "metadata": {},
   "source": [
    "### 2. What is the value of a dictionary value with the key 'foo' and the value 42?\n",
    "* {'foo': 42}"
   ]
  },
  {
   "cell_type": "markdown",
   "id": "b14c1ecd",
   "metadata": {},
   "source": [
    "### 3. What is the most significant distinction between a dictionary and a list?\n",
    "* The items stored in a dictionary are unordered, while the items in a list are ordered."
   ]
  },
  {
   "cell_type": "markdown",
   "id": "a26ea427",
   "metadata": {},
   "source": [
    "### 4. What happens if you try to access spam['foo'] if spam is {'bar': 100}?\n",
    "* You will get a KeyError error."
   ]
  },
  {
   "cell_type": "markdown",
   "id": "3ad62309",
   "metadata": {},
   "source": [
    "### 5. If a dictionary is stored in spam, what is the difference between the expressions 'cat' in spam and 'cat' in spam.keys()?\n",
    "* There is no difference. The in operator checks whether a value exists as a key in the dictionary."
   ]
  },
  {
   "cell_type": "markdown",
   "id": "9c4addbe",
   "metadata": {},
   "source": [
    "### 6. If a dictionary is stored in spam, what is the difference between the expressions 'cat' in spam and 'cat' in spam.values()?\n",
    "1. cat' in spam checks whether there is a 'cat' key in the dictionary.\n",
    "2. 'cat' in spam.values() checks whether there is a value 'cat' for one of the keys in spam."
   ]
  },
  {
   "cell_type": "markdown",
   "id": "47be79b0",
   "metadata": {},
   "source": [
    "### 7. What is a shortcut for the following code?if 'color'not in spam:spam['color'] = 'black'\n",
    "1. the code will assign color as key and value as black to a dcitionary.\n",
    "2. shortcut to do it is:\n",
    "    * spam.setdefault('color', 'black')"
   ]
  },
  {
   "cell_type": "markdown",
   "id": "df720fa6",
   "metadata": {},
   "source": [
    "### 8. How do you \"pretty print\" dictionary values using which module and function?\n",
    "* pprint.pprint()"
   ]
  }
 ],
 "metadata": {
  "kernelspec": {
   "display_name": "Python 3 (ipykernel)",
   "language": "python",
   "name": "python3"
  },
  "language_info": {
   "codemirror_mode": {
    "name": "ipython",
    "version": 3
   },
   "file_extension": ".py",
   "mimetype": "text/x-python",
   "name": "python",
   "nbconvert_exporter": "python",
   "pygments_lexer": "ipython3",
   "version": "3.8.10"
  }
 },
 "nbformat": 4,
 "nbformat_minor": 5
}
